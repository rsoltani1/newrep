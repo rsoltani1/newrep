{
 "cells": [
  {
   "cell_type": "code",
   "execution_count": 463,
   "metadata": {},
   "outputs": [],
   "source": [
    "import pandas as pd\n",
    "#from pandas import ExcelWriter\n",
    "#from pandas import ExcelFile\n",
    "import numpy as np\n",
    "from sklearn.model_selection import train_test_split\n",
    "import matplotlib.pyplot as plt\n",
    "from sklearn import decomposition\n",
    "from matplotlib.mlab import PCA\n",
    "from math import sin, cos, sqrt, atan2, radians\n",
    "\n",
    "def read_data_vt_mt():\n",
    " print('Reading the data ...')\n",
    " VT = pd.read_csv('VT_cleaned.csv',low_memory=False)\n",
    " MT = pd.read_csv('MT_cleaned.csv',low_memory=False)\n",
    " return (VT, MT)\n",
    "\n"
   ]
  },
  {
   "cell_type": "code",
   "execution_count": 464,
   "metadata": {},
   "outputs": [
    {
     "name": "stdout",
     "output_type": "stream",
     "text": [
      "Reading the data ...\n",
      "Vermont (283285, 23)\n",
      "Montana (825118, 33)\n"
     ]
    }
   ],
   "source": [
    "\n",
    "vt, mt   = read_data_vt_mt()\n",
    "print('Vermont', vt.shape)\n",
    "print('Montana', mt.shape)"
   ]
  },
  {
   "cell_type": "code",
   "execution_count": 465,
   "metadata": {},
   "outputs": [
    {
     "name": "stdout",
     "output_type": "stream",
     "text": [
      "MT male stop ratio: 0.67507233342\n"
     ]
    }
   ],
   "source": [
    "temp=mt.groupby(['driver_gender']).agg(['count'])\n",
    "n_females_mt=temp.iloc[0,1];\n",
    "n_males_mt=temp.iloc[1,1]\n",
    "n_tot_mt=n_males_mt+n_females_mt\n",
    "\n",
    "temp=vt.groupby(['driver_gender']).agg(['count'])\n",
    "n_females_vt=temp.iloc[0,1];\n",
    "n_males_vt=temp.iloc[1,1]\n",
    "n_tot_vt=n_males_vt+n_females_vt\n",
    "\n",
    "\n",
    "print('MT male stop ratio: %.11f' %(n_males_mt/(n_tot_mt)))"
   ]
  },
  {
   "cell_type": "code",
   "execution_count": 466,
   "metadata": {
    "collapsed": true
   },
   "outputs": [],
   "source": [
    "temp = mt.groupby(['out_of_state','is_arrested' ]).agg(['count'])"
   ]
  },
  {
   "cell_type": "code",
   "execution_count": 467,
   "metadata": {},
   "outputs": [
    {
     "name": "stdout",
     "output_type": "stream",
     "text": [
      "How many more times likely are you to be arrested in MT if out of state:\n",
      "0.399294445812\n"
     ]
    }
   ],
   "source": [
    "in_state_arrest_mt=temp.iloc[1,3]\n",
    "out_state_arrest_mt=temp.iloc[3,3]\n",
    "arrest_out_in_proportion=out_state_arrest_mt/in_state_arrest_mt\n",
    "print('How many more times likely are you to be arrested in MT if out of state:')\n",
    "print(arrest_out_in_proportion)"
   ]
  },
  {
   "cell_type": "code",
   "execution_count": 468,
   "metadata": {},
   "outputs": [
    {
     "name": "stdout",
     "output_type": "stream",
     "text": [
      "chai square test result\n",
      "0.00701315041071\n"
     ]
    }
   ],
   "source": [
    "temp=mt.groupby(['is_arrested']).agg(['count'])\n",
    "not_ar_mt=temp.iloc[0,0]\n",
    "ar_mt=temp.iloc[1,0]\n",
    "ar_pro_mt=ar_mt/(ar_mt+not_ar_mt)\n",
    "temp=vt.groupby(['is_arrested']).agg(['count'])\n",
    "not_ar_vt=temp.iloc[0,0]\n",
    "ar_vt=temp.iloc[1,0]\n",
    "ar_pro_vt=ar_vt/(ar_vt+not_ar_vt)\n",
    "chai_s_res=((ar_pro_vt-ar_pro_mt)**2)/min(ar_pro_vt,ar_pro_mt)\n",
    "print('chai square test result')\n",
    "print(chai_s_res)\n",
    "\n"
   ]
  },
  {
   "cell_type": "code",
   "execution_count": 469,
   "metadata": {},
   "outputs": [],
   "source": [
    "temp = mt.groupby(['violation']).agg(['count'])"
   ]
  },
  {
   "cell_type": "code",
   "execution_count": 471,
   "metadata": {},
   "outputs": [
    {
     "name": "stdout",
     "output_type": "stream",
     "text": [
      "Speeding proportion in Montana\n"
     ]
    },
    {
     "data": {
      "text/plain": [
       "0.65819473720574206"
      ]
     },
     "execution_count": 471,
     "metadata": {},
     "output_type": "execute_result"
    }
   ],
   "source": [
    "count = temp.loc[temp.index.str.contains('Speeding'), temp.columns[0]].sum()\n",
    "print('Speeding proportion in Montana')\n",
    "print(count/n_tot_mt)"
   ]
  },
  {
   "cell_type": "code",
   "execution_count": 472,
   "metadata": {},
   "outputs": [],
   "source": [
    "dui_pro_mt=temp.loc[temp.index.str.contains('DUI'), temp.columns[0]].sum()/n_tot_mt\n"
   ]
  },
  {
   "cell_type": "code",
   "execution_count": 473,
   "metadata": {},
   "outputs": [
    {
     "name": "stdout",
     "output_type": "stream",
     "text": [
      "How much more likely does a traffic stop in Montana result in a DUI than a traffic stop in Vermont?\n",
      "0.00814480539729\n"
     ]
    }
   ],
   "source": [
    "temp = vt.groupby(['violation']).agg(['count'])\n",
    "dui_pro_vt=temp.loc[temp.index.str.contains('DUI'), temp.columns[0]].sum()/n_tot_vt\n",
    "\n",
    "print('How much more likely does a traffic stop in Montana result in a DUI than a traffic stop in Vermont?')\n",
    "print(dui_pro_mt-dui_pro_vt)"
   ]
  },
  {
   "cell_type": "code",
   "execution_count": 478,
   "metadata": {},
   "outputs": [
    {
     "name": "stdout",
     "output_type": "stream",
     "text": [
      "slope: 0.976041449893\n",
      "intercept 21.0266849183\n",
      "p value 0.0535610298484\n",
      "Prediction in 2020: 1992.6304137\n"
     ]
    }
   ],
   "source": [
    "mt['vehicle_year'] = mt['vehicle_year'].replace('UNK', 0)\n",
    "mt['vehicle_year'] = mt['vehicle_year'].replace('NON-',0 )\n",
    "mt['vehicle_year'] = pd.to_numeric(mt['vehicle_year'])\n",
    "mt['stop_date'] = pd.to_datetime(mt['stop_date'])\n",
    "mt['stop_year'] = mt['stop_date'].dt.year\n",
    "mt = mt.fillna(0)\n",
    "\n",
    "years=np.array([2010, 2011, 2012,2013,2014,2015])\n",
    "av=np.array([0,0,0,0,0,0])\n",
    "\n",
    "\n",
    "temp = mt.groupby(['stop_year'], as_index=False)['vehicle_year'].mean()\n",
    "\n",
    "train_x = temp['stop_year'][1:]\n",
    "train_y = temp['vehicle_year'][1:]\n",
    "\n",
    "from scipy import stats\n",
    "\n",
    "slope, intercept, r_value, p_value, std_err = stats.linregress(train_x,train_y)\n",
    "print('slope:',slope)\n",
    "print('intercept',intercept)\n",
    "print('p value',p_value)\n",
    "pred=2020*slope+intercept\n",
    "print('Prediction in 2020:', pred)\n",
    "\n",
    "#from sklearn import linear_model\n",
    "#myclf = linear_model.Lasso(tol=1)\n",
    "#myclf.fit([0,1],[2,3])\n",
    "#print(clf.coef_)\n"
   ]
  },
  {
   "cell_type": "code",
   "execution_count": 481,
   "metadata": {},
   "outputs": [
    {
     "name": "stdout",
     "output_type": "stream",
     "text": [
      "number in max hour: 95891\n",
      "number in min hour: 547\n",
      "difference between numbers in min/max hours: 95344\n"
     ]
    }
   ],
   "source": [
    "mtsh = pd.to_datetime(mt['stop_time'])\n",
    "vtsh = pd.to_datetime(vt['stop_time'])\n",
    "vq = pd.concat([mtsh.dt.hour, vtsh.dt.hour])\n",
    "rs = vq.groupby(vq)\n",
    "vq_max=rs.agg('count').max()\n",
    "print('number in max hour:',vq_max)\n",
    "vq_min=rs.agg('count').min()\n",
    "print('number in min hour:',vq_min)\n",
    "print('difference between numbers in min/max hours:',vq_max-vq_min)"
   ]
  },
  {
   "cell_type": "code",
   "execution_count": 462,
   "metadata": {},
   "outputs": [
    {
     "name": "stdout",
     "output_type": "stream",
     "text": [
      "Largest county area: 8781.03423571\n"
     ]
    }
   ],
   "source": [
    "mt = mt[(mt.lon >(-117.004501) ) & (mt.lon<(-102.9445699))&(mt.lat >43.64999 ) & (mt.lat<49.0456001)]\n",
    "varmt = mt.groupby(['county_name'], as_index=False)['lat', 'lon'].var()\n",
    "meanmt = mt.groupby(['county_name'], as_index=False)['lat', 'lon'].mean()\n",
    "R_Earth = 3959 *   1.60934\n",
    "dlon = (((meanmt['lon'])) -  np.sqrt((varmt['lon'])))-( ((meanmt['lon'])) +  np.sqrt((varmt['lon'])))\n",
    "dlat = (((meanmt['lat'])) - np.sqrt((varmt['lat'])))-(((meanmt['lat']))+ np.sqrt((varmt['lat'])))\n",
    "qop=(np.sin(np.deg2rad(dlat) / 2))\n",
    "con =1e-6*(qop**2+0.0001 * qop**4)+ 2 * np.arctan2(np.sqrt((qop**2+0.0001 * qop**4)), np.sqrt(1 - (qop**2+0.0001 * qop**4)))\n",
    "temp = np.cos(np.deg2rad(((meanmt['lat'])))) * np.cos(np.deg2rad(((meanmt['lat'])))) * (np.sin(np.deg2rad(dlon) / 2))**2 + 2e-10*np.cos(np.deg2rad(((meanmt['lat']))))\n",
    "C_Ar = np.pi * (R_Earth  * con) *  (R_Earth  *  2 * np.arctan2(np.sqrt(temp), np.sqrt(1 - temp)))\n",
    "print('Largest county area:', C_Ar[C_Ar[1:].argmax()])\n"
   ]
  },
  {
   "cell_type": "code",
   "execution_count": 445,
   "metadata": {},
   "outputs": [
    {
     "data": {
      "text/plain": [
       "1e-06"
      ]
     },
     "execution_count": 445,
     "metadata": {},
     "output_type": "execute_result"
    }
   ],
   "source": [
    "1e-6"
   ]
  },
  {
   "cell_type": "code",
   "execution_count": null,
   "metadata": {
    "collapsed": true
   },
   "outputs": [],
   "source": []
  }
 ],
 "metadata": {
  "kernelspec": {
   "display_name": "Python 3",
   "language": "python",
   "name": "python3"
  },
  "language_info": {
   "codemirror_mode": {
    "name": "ipython",
    "version": 3
   },
   "file_extension": ".py",
   "mimetype": "text/x-python",
   "name": "python",
   "nbconvert_exporter": "python",
   "pygments_lexer": "ipython3",
   "version": "3.6.3"
  }
 },
 "nbformat": 4,
 "nbformat_minor": 2
}
